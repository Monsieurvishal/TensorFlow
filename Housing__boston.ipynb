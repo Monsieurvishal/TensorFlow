{
  "nbformat": 4,
  "nbformat_minor": 0,
  "metadata": {
    "colab": {
      "name": "Housing _boston.ipynb",
      "provenance": []
    },
    "kernelspec": {
      "name": "python3",
      "display_name": "Python 3"
    }
  },
  "cells": [
    {
      "cell_type": "code",
      "metadata": {
        "id": "JTmXODh1NC0R",
        "colab_type": "code",
        "colab": {
          "base_uri": "https://localhost:8080/",
          "height": 34
        },
        "outputId": "05ec72a4-0f0d-482f-e045-807f4aed7959"
      },
      "source": [
        "import keras"
      ],
      "execution_count": 2,
      "outputs": [
        {
          "output_type": "stream",
          "text": [
            "Using TensorFlow backend.\n"
          ],
          "name": "stderr"
        }
      ]
    },
    {
      "cell_type": "code",
      "metadata": {
        "id": "eRy68CVdNGPg",
        "colab_type": "code",
        "colab": {
          "base_uri": "https://localhost:8080/",
          "height": 50
        },
        "outputId": "6832987c-7e57-485d-e155-0922af365d5e"
      },
      "source": [
        "from keras.datasets import boston_housing\n",
        "(train_data,train_targets),(test_data,test_targets)=boston_housing.load_data()"
      ],
      "execution_count": 3,
      "outputs": [
        {
          "output_type": "stream",
          "text": [
            "Downloading data from https://s3.amazonaws.com/keras-datasets/boston_housing.npz\n",
            "57344/57026 [==============================] - 0s 1us/step\n"
          ],
          "name": "stdout"
        }
      ]
    },
    {
      "cell_type": "code",
      "metadata": {
        "id": "PAUt2n-rN3a3",
        "colab_type": "code",
        "outputId": "76b53e99-9766-48b9-b519-e20414ccef40",
        "colab": {
          "base_uri": "https://localhost:8080/",
          "height": 34
        }
      },
      "source": [
        "train_data.shape"
      ],
      "execution_count": 4,
      "outputs": [
        {
          "output_type": "execute_result",
          "data": {
            "text/plain": [
              "(404, 13)"
            ]
          },
          "metadata": {
            "tags": []
          },
          "execution_count": 4
        }
      ]
    },
    {
      "cell_type": "code",
      "metadata": {
        "id": "UyqdKjfLOBwP",
        "colab_type": "code",
        "outputId": "bba4fcad-a119-4ef1-9fe1-69f9b754b35b",
        "colab": {
          "base_uri": "https://localhost:8080/",
          "height": 34
        }
      },
      "source": [
        "test_data.shape"
      ],
      "execution_count": 5,
      "outputs": [
        {
          "output_type": "execute_result",
          "data": {
            "text/plain": [
              "(102, 13)"
            ]
          },
          "metadata": {
            "tags": []
          },
          "execution_count": 5
        }
      ]
    },
    {
      "cell_type": "code",
      "metadata": {
        "id": "Pt5XN41JOLs8",
        "colab_type": "code",
        "colab": {}
      },
      "source": [
        "# feature-wise normalization:\n",
        "mean = train_data.mean(axis=0)\n",
        "train_data -= mean\n",
        "std = train_data.std(axis=0)\n",
        "train_data /= std\n",
        "\n",
        "test_data -= mean\n",
        "test_data /= std\n",
        "\n"
      ],
      "execution_count": 0,
      "outputs": []
    },
    {
      "cell_type": "code",
      "metadata": {
        "id": "EHfcf0kkPDbx",
        "colab_type": "code",
        "colab": {}
      },
      "source": [
        "from keras import models\n",
        "from keras import layers\n",
        "\n",
        "def build_model():\n",
        "  model=models.Sequential()\n",
        "\n",
        "  model.add(layers.Dense(64, activation='relu',\n",
        "                           input_shape=(train_data.shape[1],)))\n",
        "  model.add(layers.Dense(64, activation='relu'))\n",
        "  model.add(layers.Dense(1))\n",
        "  model.compile(optimizer='rmsprop', loss='mse', metrics=['mae'])\n",
        "  return model"
      ],
      "execution_count": 0,
      "outputs": []
    },
    {
      "cell_type": "code",
      "metadata": {
        "id": "Dsy3PB5FQszk",
        "colab_type": "code",
        "colab": {}
      },
      "source": [
        ""
      ],
      "execution_count": 0,
      "outputs": []
    },
    {
      "cell_type": "code",
      "metadata": {
        "id": "nlfRsye9RPEM",
        "colab_type": "code",
        "outputId": "749a82ca-3e3c-43ce-adbd-de7a5e4bbfcc",
        "colab": {
          "base_uri": "https://localhost:8080/",
          "height": 1000
        }
      },
      "source": [
        "model = build_model()\n",
        "# Train it on the entirety of the data.\n",
        "model.fit(train_data, train_targets,\n",
        "          epochs=80, batch_size=16)\n",
        "test_mse_score, test_mae_score = model.evaluate(test_data, test_targets)"
      ],
      "execution_count": 9,
      "outputs": [
        {
          "output_type": "stream",
          "text": [
            "Epoch 1/80\n",
            "404/404 [==============================] - 0s 685us/step - loss: 482.7734 - mae: 20.0011\n",
            "Epoch 2/80\n",
            "404/404 [==============================] - 0s 99us/step - loss: 296.3201 - mae: 15.0107\n",
            "Epoch 3/80\n",
            "404/404 [==============================] - 0s 75us/step - loss: 127.7466 - mae: 8.9638\n",
            "Epoch 4/80\n",
            "404/404 [==============================] - 0s 72us/step - loss: 56.9322 - mae: 5.5191\n",
            "Epoch 5/80\n",
            "404/404 [==============================] - 0s 76us/step - loss: 37.8114 - mae: 4.3652\n",
            "Epoch 6/80\n",
            "404/404 [==============================] - 0s 80us/step - loss: 29.5092 - mae: 3.7598\n",
            "Epoch 7/80\n",
            "404/404 [==============================] - 0s 79us/step - loss: 25.0448 - mae: 3.5035\n",
            "Epoch 8/80\n",
            "404/404 [==============================] - 0s 74us/step - loss: 21.8657 - mae: 3.2472\n",
            "Epoch 9/80\n",
            "404/404 [==============================] - 0s 72us/step - loss: 19.2033 - mae: 3.0785\n",
            "Epoch 10/80\n",
            "404/404 [==============================] - 0s 73us/step - loss: 17.2943 - mae: 2.8956\n",
            "Epoch 11/80\n",
            "404/404 [==============================] - 0s 73us/step - loss: 15.5152 - mae: 2.7342\n",
            "Epoch 12/80\n",
            "404/404 [==============================] - 0s 70us/step - loss: 14.5664 - mae: 2.6917\n",
            "Epoch 13/80\n",
            "404/404 [==============================] - 0s 76us/step - loss: 13.5394 - mae: 2.5984\n",
            "Epoch 14/80\n",
            "404/404 [==============================] - 0s 72us/step - loss: 12.7262 - mae: 2.5186\n",
            "Epoch 15/80\n",
            "404/404 [==============================] - 0s 85us/step - loss: 11.9499 - mae: 2.4559\n",
            "Epoch 16/80\n",
            "404/404 [==============================] - 0s 77us/step - loss: 11.5164 - mae: 2.4155\n",
            "Epoch 17/80\n",
            "404/404 [==============================] - 0s 75us/step - loss: 10.9814 - mae: 2.3963\n",
            "Epoch 18/80\n",
            "404/404 [==============================] - 0s 71us/step - loss: 10.6627 - mae: 2.2997\n",
            "Epoch 19/80\n",
            "404/404 [==============================] - 0s 75us/step - loss: 10.5257 - mae: 2.3093\n",
            "Epoch 20/80\n",
            "404/404 [==============================] - 0s 72us/step - loss: 10.3231 - mae: 2.2661\n",
            "Epoch 21/80\n",
            "404/404 [==============================] - 0s 71us/step - loss: 9.8545 - mae: 2.2382\n",
            "Epoch 22/80\n",
            "404/404 [==============================] - 0s 84us/step - loss: 9.8752 - mae: 2.2028\n",
            "Epoch 23/80\n",
            "404/404 [==============================] - 0s 84us/step - loss: 9.5232 - mae: 2.2364\n",
            "Epoch 24/80\n",
            "404/404 [==============================] - 0s 78us/step - loss: 9.5828 - mae: 2.2131\n",
            "Epoch 25/80\n",
            "404/404 [==============================] - 0s 84us/step - loss: 9.3048 - mae: 2.1632\n",
            "Epoch 26/80\n",
            "404/404 [==============================] - 0s 79us/step - loss: 9.2222 - mae: 2.1766\n",
            "Epoch 27/80\n",
            "404/404 [==============================] - 0s 71us/step - loss: 8.9954 - mae: 2.1614\n",
            "Epoch 28/80\n",
            "404/404 [==============================] - 0s 75us/step - loss: 8.9458 - mae: 2.0999\n",
            "Epoch 29/80\n",
            "404/404 [==============================] - 0s 81us/step - loss: 8.8529 - mae: 2.0944\n",
            "Epoch 30/80\n",
            "404/404 [==============================] - 0s 82us/step - loss: 8.7039 - mae: 2.0987\n",
            "Epoch 31/80\n",
            "404/404 [==============================] - 0s 73us/step - loss: 8.5789 - mae: 2.0876\n",
            "Epoch 32/80\n",
            "404/404 [==============================] - 0s 75us/step - loss: 8.6409 - mae: 2.0872\n",
            "Epoch 33/80\n",
            "404/404 [==============================] - 0s 71us/step - loss: 8.3614 - mae: 2.0338\n",
            "Epoch 34/80\n",
            "404/404 [==============================] - 0s 75us/step - loss: 8.2874 - mae: 2.0581\n",
            "Epoch 35/80\n",
            "404/404 [==============================] - 0s 70us/step - loss: 8.3550 - mae: 2.0290\n",
            "Epoch 36/80\n",
            "404/404 [==============================] - 0s 71us/step - loss: 8.1013 - mae: 2.0035\n",
            "Epoch 37/80\n",
            "404/404 [==============================] - 0s 103us/step - loss: 7.9865 - mae: 1.9984\n",
            "Epoch 38/80\n",
            "404/404 [==============================] - 0s 83us/step - loss: 7.7639 - mae: 1.9611\n",
            "Epoch 39/80\n",
            "404/404 [==============================] - 0s 82us/step - loss: 7.8039 - mae: 1.9789\n",
            "Epoch 40/80\n",
            "404/404 [==============================] - 0s 73us/step - loss: 7.7208 - mae: 1.9598\n",
            "Epoch 41/80\n",
            "404/404 [==============================] - 0s 77us/step - loss: 7.5900 - mae: 1.9129\n",
            "Epoch 42/80\n",
            "404/404 [==============================] - 0s 75us/step - loss: 7.6891 - mae: 1.9468\n",
            "Epoch 43/80\n",
            "404/404 [==============================] - 0s 83us/step - loss: 7.5261 - mae: 1.9607\n",
            "Epoch 44/80\n",
            "404/404 [==============================] - 0s 79us/step - loss: 7.5576 - mae: 1.9150\n",
            "Epoch 45/80\n",
            "404/404 [==============================] - 0s 77us/step - loss: 7.5189 - mae: 1.9083\n",
            "Epoch 46/80\n",
            "404/404 [==============================] - 0s 91us/step - loss: 7.2899 - mae: 1.9352\n",
            "Epoch 47/80\n",
            "404/404 [==============================] - 0s 75us/step - loss: 7.2860 - mae: 1.8949\n",
            "Epoch 48/80\n",
            "404/404 [==============================] - 0s 75us/step - loss: 7.1614 - mae: 1.9030\n",
            "Epoch 49/80\n",
            "404/404 [==============================] - 0s 75us/step - loss: 7.1364 - mae: 1.8761\n",
            "Epoch 50/80\n",
            "404/404 [==============================] - 0s 79us/step - loss: 7.1043 - mae: 1.8900\n",
            "Epoch 51/80\n",
            "404/404 [==============================] - 0s 76us/step - loss: 6.9630 - mae: 1.8603\n",
            "Epoch 52/80\n",
            "404/404 [==============================] - 0s 76us/step - loss: 7.0702 - mae: 1.8703\n",
            "Epoch 53/80\n",
            "404/404 [==============================] - 0s 74us/step - loss: 6.8431 - mae: 1.8335\n",
            "Epoch 54/80\n",
            "404/404 [==============================] - 0s 80us/step - loss: 6.7979 - mae: 1.8546\n",
            "Epoch 55/80\n",
            "404/404 [==============================] - 0s 72us/step - loss: 6.6876 - mae: 1.8273\n",
            "Epoch 56/80\n",
            "404/404 [==============================] - 0s 71us/step - loss: 6.8025 - mae: 1.8520\n",
            "Epoch 57/80\n",
            "404/404 [==============================] - 0s 75us/step - loss: 6.5799 - mae: 1.8029\n",
            "Epoch 58/80\n",
            "404/404 [==============================] - 0s 71us/step - loss: 6.6585 - mae: 1.7762\n",
            "Epoch 59/80\n",
            "404/404 [==============================] - 0s 74us/step - loss: 6.5359 - mae: 1.8270\n",
            "Epoch 60/80\n",
            "404/404 [==============================] - 0s 70us/step - loss: 6.5913 - mae: 1.7899\n",
            "Epoch 61/80\n",
            "404/404 [==============================] - 0s 70us/step - loss: 6.2769 - mae: 1.7713\n",
            "Epoch 62/80\n",
            "404/404 [==============================] - 0s 72us/step - loss: 6.1405 - mae: 1.7491\n",
            "Epoch 63/80\n",
            "404/404 [==============================] - 0s 71us/step - loss: 6.2422 - mae: 1.7504\n",
            "Epoch 64/80\n",
            "404/404 [==============================] - 0s 70us/step - loss: 6.4316 - mae: 1.7913\n",
            "Epoch 65/80\n",
            "404/404 [==============================] - 0s 73us/step - loss: 6.2392 - mae: 1.7280\n",
            "Epoch 66/80\n",
            "404/404 [==============================] - 0s 69us/step - loss: 6.2684 - mae: 1.7839\n",
            "Epoch 67/80\n",
            "404/404 [==============================] - 0s 70us/step - loss: 5.9630 - mae: 1.7454\n",
            "Epoch 68/80\n",
            "404/404 [==============================] - 0s 69us/step - loss: 6.0977 - mae: 1.7432\n",
            "Epoch 69/80\n",
            "404/404 [==============================] - 0s 75us/step - loss: 6.0764 - mae: 1.7579\n",
            "Epoch 70/80\n",
            "404/404 [==============================] - 0s 77us/step - loss: 6.0843 - mae: 1.7221\n",
            "Epoch 71/80\n",
            "404/404 [==============================] - 0s 78us/step - loss: 5.8282 - mae: 1.7330\n",
            "Epoch 72/80\n",
            "404/404 [==============================] - 0s 81us/step - loss: 6.0470 - mae: 1.7222\n",
            "Epoch 73/80\n",
            "404/404 [==============================] - 0s 71us/step - loss: 5.8938 - mae: 1.6909\n",
            "Epoch 74/80\n",
            "404/404 [==============================] - 0s 77us/step - loss: 5.7856 - mae: 1.7020\n",
            "Epoch 75/80\n",
            "404/404 [==============================] - 0s 74us/step - loss: 5.7322 - mae: 1.6742\n",
            "Epoch 76/80\n",
            "404/404 [==============================] - 0s 70us/step - loss: 5.7299 - mae: 1.6404\n",
            "Epoch 77/80\n",
            "404/404 [==============================] - 0s 72us/step - loss: 5.5657 - mae: 1.6760\n",
            "Epoch 78/80\n",
            "404/404 [==============================] - 0s 100us/step - loss: 5.5238 - mae: 1.6678\n",
            "Epoch 79/80\n",
            "404/404 [==============================] - 0s 86us/step - loss: 5.6595 - mae: 1.6656\n",
            "Epoch 80/80\n",
            "404/404 [==============================] - 0s 77us/step - loss: 5.5460 - mae: 1.6758\n",
            "102/102 [==============================] - 0s 174us/step\n"
          ],
          "name": "stdout"
        }
      ]
    }
  ]
}