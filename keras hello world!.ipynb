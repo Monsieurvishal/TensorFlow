{
  "nbformat": 4,
  "nbformat_minor": 0,
  "metadata": {
    "colab": {
      "name": "Untitled0.ipynb",
      "provenance": []
    },
    "kernelspec": {
      "name": "python3",
      "display_name": "Python 3"
    }
  },
  "cells": [
    {
      "cell_type": "code",
      "metadata": {
        "id": "YlvrQx3oMP9q",
        "colab_type": "code",
        "colab": {}
      },
      "source": [
        "import keras"
      ],
      "execution_count": 0,
      "outputs": []
    },
    {
      "cell_type": "code",
      "metadata": {
        "id": "ZehUC1FyM8zo",
        "colab_type": "code",
        "colab": {
          "base_uri": "https://localhost:8080/",
          "height": 34
        },
        "outputId": "4059affb-49d7-407a-e923-658270d07a6d"
      },
      "source": [
        "keras.backend.backend()"
      ],
      "execution_count": 30,
      "outputs": [
        {
          "output_type": "execute_result",
          "data": {
            "text/plain": [
              "'tensorflow'"
            ]
          },
          "metadata": {
            "tags": []
          },
          "execution_count": 30
        }
      ]
    },
    {
      "cell_type": "code",
      "metadata": {
        "id": "Cb0qcOmcOmmM",
        "colab_type": "code",
        "colab": {}
      },
      "source": [
        "from keras.datasets import mnist"
      ],
      "execution_count": 0,
      "outputs": []
    },
    {
      "cell_type": "code",
      "metadata": {
        "id": "iagfpJ5TO0r7",
        "colab_type": "code",
        "colab": {}
      },
      "source": [
        "(x_train, y_train),(x_test,y_test)=mnist.load_data()"
      ],
      "execution_count": 0,
      "outputs": []
    },
    {
      "cell_type": "code",
      "metadata": {
        "id": "N32DPdV3Pmp8",
        "colab_type": "code",
        "colab": {}
      },
      "source": [
        "from random import randint\n",
        "from matplotlib import pyplot"
      ],
      "execution_count": 0,
      "outputs": []
    },
    {
      "cell_type": "code",
      "metadata": {
        "id": "baY8FX0fP75V",
        "colab_type": "code",
        "colab": {
          "base_uri": "https://localhost:8080/",
          "height": 282
        },
        "outputId": "d0124871-7287-4f40-cb10-44882b85e18f"
      },
      "source": [
        "i=randint(0,x_train.shape[0])\n",
        "pyplot.imshow(x_train[i])"
      ],
      "execution_count": 34,
      "outputs": [
        {
          "output_type": "execute_result",
          "data": {
            "text/plain": [
              "<matplotlib.image.AxesImage at 0x7fb8ae7dac50>"
            ]
          },
          "metadata": {
            "tags": []
          },
          "execution_count": 34
        },
        {
          "output_type": "display_data",
          "data": {
            "image/png": "[encoded data removed]",
            "text/plain": [
              "<Figure size 432x288 with 1 Axes>"
            ]
          },
          "metadata": {
            "tags": [],
            "needs_background": "light"
          }
        }
      ]
    },
    {
      "cell_type": "code",
      "metadata": {
        "id": "ei_oclp9QfW-",
        "colab_type": "code",
        "colab": {}
      },
      "source": [
        "image_size = 784 # 28 x 28\n",
        "\n",
        "x_train = x_train.reshape(x_train.shape[0], image_size) # Transform from matrix to vector\n",
        "\n",
        "x_train = x_train.astype('float32') # Cast as 32 bit integers\n",
        "x_train /= 255 # Normalize inputs from 0-255 to 0.0-1.0\n",
        "x_test = x_test.reshape(x_test.shape[0], image_size) # Transform from ma\n",
        "x_test = x_test.astype('float32') # Cast as 32 bit integers\n",
        "x_test /= 255 # Normalize inputs from 0-255 to 0.0-1.0\n"
      ],
      "execution_count": 0,
      "outputs": []
    },
    {
      "cell_type": "code",
      "metadata": {
        "id": "gGSIQSNvStd9",
        "colab_type": "code",
        "colab": {}
      },
      "source": [
        "y_train = keras.utils.to_categorical(y_train, 10)\n",
        "y_test = keras.utils.to_categorical(y_test, 10)"
      ],
      "execution_count": 0,
      "outputs": []
    },
    {
      "cell_type": "code",
      "metadata": {
        "id": "gPa4BH3lTLCR",
        "colab_type": "code",
        "colab": {}
      },
      "source": [
        "from keras.models import Sequential\n",
        "from keras.layers import Dense"
      ],
      "execution_count": 0,
      "outputs": []
    },
    {
      "cell_type": "code",
      "metadata": {
        "id": "1u_sYtjKTlmw",
        "colab_type": "code",
        "colab": {}
      },
      "source": [
        "model=Sequential()"
      ],
      "execution_count": 0,
      "outputs": []
    },
    {
      "cell_type": "code",
      "metadata": {
        "id": "sWePu3g-UMIO",
        "colab_type": "code",
        "colab": {}
      },
      "source": [
        "layer_input = Dense(units=512, activation='sigmoid', input_shape=(image_size,))\n",
        "model.add(layer_input)"
      ],
      "execution_count": 0,
      "outputs": []
    },
    {
      "cell_type": "code",
      "metadata": {
        "id": "eUUSalhKXBdR",
        "colab_type": "code",
        "colab": {}
      },
      "source": [
        "layer_output = Dense(units=10, activation='softmax') \n",
        "model.add(layer_output)"
      ],
      "execution_count": 0,
      "outputs": []
    },
    {
      "cell_type": "code",
      "metadata": {
        "id": "BdVA7YzbUqub",
        "colab_type": "code",
        "colab": {
          "base_uri": "https://localhost:8080/",
          "height": 440
        },
        "outputId": "66c2006f-b4d9-42fe-d137-57411fada923"
      },
      "source": [
        "model.summary()"
      ],
      "execution_count": 54,
      "outputs": [
        {
          "output_type": "stream",
          "text": [
            "Model: \"sequential_2\"\n",
            "_________________________________________________________________\n",
            "Layer (type)                 Output Shape              Param #   \n",
            "=================================================================\n",
            "dense_5 (Dense)              (None, 512)               401920    \n",
            "_________________________________________________________________\n",
            "dense_6 (Dense)              (None, 512)               262656    \n",
            "_________________________________________________________________\n",
            "dense_7 (Dense)              (None, 512)               262656    \n",
            "_________________________________________________________________\n",
            "dense_8 (Dense)              (None, 6)                 3078      \n",
            "_________________________________________________________________\n",
            "dense_9 (Dense)              (None, 512)               3584      \n",
            "_________________________________________________________________\n",
            "dense_10 (Dense)             (None, 10)                5130      \n",
            "_________________________________________________________________\n",
            "dense_11 (Dense)             (None, 10)                110       \n",
            "=================================================================\n",
            "Total params: 933,894\n",
            "Trainable params: 933,894\n",
            "Non-trainable params: 0\n",
            "_________________________________________________________________\n"
          ],
          "name": "stdout"
        },
        {
          "output_type": "stream",
          "text": [
            "/usr/local/lib/python3.6/dist-packages/keras/engine/training.py:297: UserWarning: Discrepancy between trainable weights and collected trainable weights, did you set `model.trainable` without calling `model.compile` after ?\n",
            "  'Discrepancy between trainable weights and collected trainable'\n"
          ],
          "name": "stderr"
        }
      ]
    },
    {
      "cell_type": "code",
      "metadata": {
        "id": "PII_05UBVDHB",
        "colab_type": "code",
        "colab": {}
      },
      "source": [
        "model.compile(loss='categorical_crossentropy',\n",
        "optimizer='sgd',\n",
        "metrics=['accuracy'])"
      ],
      "execution_count": 0,
      "outputs": []
    },
    {
      "cell_type": "code",
      "metadata": {
        "id": "9LM-Sg8rVH3N",
        "colab_type": "code",
        "colab": {
          "base_uri": "https://localhost:8080/",
          "height": 202
        },
        "outputId": "1842e994-3778-406b-cc1a-0c4e3d7e2878"
      },
      "source": [
        "training = model.fit(x_train,y_train,epochs=5,validation_split=0.1)"
      ],
      "execution_count": 56,
      "outputs": [
        {
          "output_type": "stream",
          "text": [
            "Train on 54000 samples, validate on 6000 samples\n",
            "Epoch 1/5\n",
            "54000/54000 [==============================] - 22s 409us/step - loss: 2.3018 - accuracy: 0.1109 - val_loss: 2.3020 - val_accuracy: 0.1050\n",
            "Epoch 2/5\n",
            "54000/54000 [==============================] - 22s 403us/step - loss: 2.3013 - accuracy: 0.1132 - val_loss: 2.3020 - val_accuracy: 0.1050\n",
            "Epoch 3/5\n",
            "54000/54000 [==============================] - 22s 404us/step - loss: 2.3013 - accuracy: 0.1132 - val_loss: 2.3019 - val_accuracy: 0.1050\n",
            "Epoch 4/5\n",
            "54000/54000 [==============================] - 21s 380us/step - loss: 2.3014 - accuracy: 0.1132 - val_loss: 2.3022 - val_accuracy: 0.1050\n",
            "Epoch 5/5\n",
            "54000/54000 [==============================] - 20s 376us/step - loss: 2.3014 - accuracy: 0.1132 - val_loss: 2.3021 - val_accuracy: 0.1050\n"
          ],
          "name": "stdout"
        }
      ]
    }
  ]
}